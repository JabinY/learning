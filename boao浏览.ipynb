{
 "cells": [
  {
   "cell_type": "code",
   "execution_count": 1,
   "metadata": {},
   "outputs": [],
   "source": [
    "from selenium import webdriver\n",
    "import os\n",
    "from selenium.webdriver.common.keys import Keys\n",
    "from selenium.webdriver.common.by import By\n",
    "import re\n",
    "import csv\n",
    "import pandas\n",
    "import random\n",
    "import time\n",
    "from selenium.webdriver.chrome.options import Options\n",
    "from webdriver_manager.microsoft import EdgeChromiumDriverManager\n",
    " "
   ]
  },
  {
   "cell_type": "code",
   "execution_count": 2,
   "metadata": {},
   "outputs": [],
   "source": [
    "# option = webdriver.ChromeOptions()\n",
    "# # option.add_argument(\"headless\")\n",
    "# chrome_options = Options()"
   ]
  },
  {
   "cell_type": "code",
   "execution_count": 3,
   "metadata": {},
   "outputs": [],
   "source": [
    "m_web = r\"https://web.baoeth.com/#/friendCircleDetails?id=4325\""
   ]
  },
  {
   "cell_type": "code",
   "execution_count": 4,
   "metadata": {},
   "outputs": [],
   "source": [
    "root_web = r\"https://web.baoeth.com/#/friendCircleDetails?id=\""
   ]
  },
  {
   "cell_type": "code",
   "execution_count": 5,
   "metadata": {},
   "outputs": [
    {
     "name": "stderr",
     "output_type": "stream",
     "text": [
      "C:\\ProgramData\\Anaconda3\\lib\\site-packages\\ipykernel_launcher.py:1: DeprecationWarning: executable_path has been deprecated, please pass in a Service object\n",
      "  \"\"\"Entry point for launching an IPython kernel.\n"
     ]
    }
   ],
   "source": [
    "driver = webdriver.Edge(EdgeChromiumDriverManager().install())\n",
    "driver.get(m_web)"
   ]
  },
  {
   "cell_type": "code",
   "execution_count": 6,
   "metadata": {},
   "outputs": [],
   "source": [
    "ID_list = pandas.read_excel(r\"f:\\博鳌\\数据\\需处理术友圈浏览\\0626.xlsx\")"
   ]
  },
  {
   "cell_type": "code",
   "execution_count": 7,
   "metadata": {
    "scrolled": true
   },
   "outputs": [
    {
     "data": {
      "text/plain": [
       "23"
      ]
     },
     "execution_count": 7,
     "metadata": {},
     "output_type": "execute_result"
    }
   ],
   "source": [
    "ID = ID_list.内容id\n",
    "len(ID)"
   ]
  },
  {
   "cell_type": "code",
   "execution_count": 8,
   "metadata": {
    "scrolled": true
   },
   "outputs": [
    {
     "name": "stdout",
     "output_type": "stream",
     "text": [
      "https://web.baoeth.com/#/friendCircleDetails?id=10213\n",
      "https://web.baoeth.com/#/friendCircleDetails?id=10212\n",
      "https://web.baoeth.com/#/friendCircleDetails?id=10211\n",
      "https://web.baoeth.com/#/friendCircleDetails?id=10210\n",
      "https://web.baoeth.com/#/friendCircleDetails?id=10209\n",
      "https://web.baoeth.com/#/friendCircleDetails?id=10207\n",
      "https://web.baoeth.com/#/friendCircleDetails?id=10206\n",
      "https://web.baoeth.com/#/friendCircleDetails?id=10205\n",
      "https://web.baoeth.com/#/friendCircleDetails?id=10204\n",
      "https://web.baoeth.com/#/friendCircleDetails?id=10203\n",
      "https://web.baoeth.com/#/friendCircleDetails?id=10202\n",
      "https://web.baoeth.com/#/friendCircleDetails?id=10201\n",
      "https://web.baoeth.com/#/friendCircleDetails?id=10200\n",
      "https://web.baoeth.com/#/friendCircleDetails?id=10199\n",
      "https://web.baoeth.com/#/friendCircleDetails?id=10198\n",
      "https://web.baoeth.com/#/friendCircleDetails?id=10197\n",
      "https://web.baoeth.com/#/friendCircleDetails?id=10196\n",
      "https://web.baoeth.com/#/friendCircleDetails?id=10195\n",
      "https://web.baoeth.com/#/friendCircleDetails?id=10194\n",
      "https://web.baoeth.com/#/friendCircleDetails?id=10190\n",
      "https://web.baoeth.com/#/friendCircleDetails?id=10189\n",
      "https://web.baoeth.com/#/friendCircleDetails?id=10188\n",
      "https://web.baoeth.com/#/friendCircleDetails?id=10187\n"
     ]
    }
   ],
   "source": [
    "\n",
    "for i in ID:\n",
    "    time.sleep(1)\n",
    "    ci = 300\n",
    "    f = 0\n",
    "    shu_web = root_web + str(round(i))\n",
    "    driver.get(shu_web)\n",
    "    print(shu_web)\n",
    "    while f < ci:\n",
    "        time.sleep(0.01)\n",
    "#         driver.get(shu_web)\n",
    "        driver.refresh()\n",
    "        f += 1\n",
    "#     d_list = [i,ci]\n",
    "#     with open(r\"E:\\博鳌\\数据\\需处理术友圈浏览\\结果.csv\", \"a\", newline=\"\", encoding=\"utf-8-sig\") as f:  # 表格命名\n",
    "#             writer = csv.writer(f)\n",
    "#             writer.writerow(d_list)    \n",
    "        \n",
    "    "
   ]
  },
  {
   "cell_type": "code",
   "execution_count": 9,
   "metadata": {},
   "outputs": [],
   "source": [
    "ID_ci = 599"
   ]
  },
  {
   "cell_type": "code",
   "execution_count": 10,
   "metadata": {},
   "outputs": [],
   "source": [
    "while f < ID_ci:\n",
    "#         time.sleep(0.5)\n",
    "    web = \"https://web.baoeth.com/#/friendCircleDetails?id=8809\"\n",
    "    driver.get(web)\n",
    "    f += 1"
   ]
  },
  {
   "cell_type": "code",
   "execution_count": null,
   "metadata": {},
   "outputs": [],
   "source": [
    "\n",
    "for i in ID:\n",
    "    time.sleep(1)\n",
    "    ci = 599\n",
    "    f = 0\n",
    "    shu_web = root_web + str(round(i))\n",
    "    driver.get(shu_web)\n",
    "    print(shu_web)\n",
    "    while f < ci:\n",
    "        time.sleep(0.5)\n",
    "#         driver.get(shu_web)\n",
    "        driver.refresh()\n",
    "        f += 1\n",
    "#     d_list = [i,ci]\n",
    "#     with open(r\"E:\\博鳌\\数据\\需处理术友圈浏览\\结果.csv\", \"a\", newline=\"\", encoding=\"utf-8-sig\") as f:  # 表格命名\n",
    "#             writer = csv.writer(f)\n",
    "#             writer.writerow(d_list)    \n",
    "        \n",
    "    "
   ]
  },
  {
   "cell_type": "code",
   "execution_count": null,
   "metadata": {},
   "outputs": [],
   "source": []
  }
 ],
 "metadata": {
  "kernelspec": {
   "display_name": "Python 3",
   "language": "python",
   "name": "python3"
  },
  "language_info": {
   "codemirror_mode": {
    "name": "ipython",
    "version": 3
   },
   "file_extension": ".py",
   "mimetype": "text/x-python",
   "name": "python",
   "nbconvert_exporter": "python",
   "pygments_lexer": "ipython3",
   "version": "3.7.6"
  }
 },
 "nbformat": 4,
 "nbformat_minor": 4
}
